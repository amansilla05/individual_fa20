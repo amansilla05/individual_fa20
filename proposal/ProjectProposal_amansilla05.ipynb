{
 "cells": [
  {
   "cell_type": "markdown",
   "metadata": {},
   "source": [
    "# COGS 108 - Project Proposal"
   ]
  },
  {
   "cell_type": "markdown",
   "metadata": {},
   "source": [
    "# Names & GitHub ID\n",
    "\n",
    "- Name: Andrea Mansilla\n",
    "- GitHub Username: amansilla05"
   ]
  },
  {
   "cell_type": "markdown",
   "metadata": {},
   "source": [
    "# Research Question"
   ]
  },
  {
   "cell_type": "markdown",
   "metadata": {},
   "source": [
    "To what extent is the San Diego County Department of Parks and Recreation (DPR) Water Conservation Plan saving enough water to make an impact in reducing the Caliofrnia Drough in San Diego County?"
   ]
  },
  {
   "cell_type": "markdown",
   "metadata": {},
   "source": [
    "## Background and Prior Work"
   ]
  },
  {
   "cell_type": "markdown",
   "metadata": {},
   "source": [
    "*Fill in your background and prior work here. Be sure to specify which statements are from which references.* \n",
    "\n",
    "References (include links):\n",
    "- 1) DPR Water Conservation Plan: https://www.sandiegocounty.gov/content/dam/sdc/parks/Development_Photos/Documents/DPRWaterConservationPlan.pdf\n",
    "- 2) California Drought information: https://www.drought.gov/drought/states/california?places=San+Diego+County%2C+CA%2C+USA"
   ]
  },
  {
   "cell_type": "markdown",
   "metadata": {},
   "source": [
    "# Hypothesis\n"
   ]
  },
  {
   "cell_type": "markdown",
   "metadata": {},
   "source": [
    "I believe that the DPR Water Conservation Plan is only making a minimal impact on the drought in San Diego County beause the parks require lots of water usage to maintain, and the DPR is cannot control private citizens' water usage. "
   ]
  },
  {
   "cell_type": "markdown",
   "metadata": {},
   "source": [
    "# Data"
   ]
  },
  {
   "cell_type": "markdown",
   "metadata": {},
   "source": [
    "The ideal data set would have variables including the amount of water saved by the DPR, water usage by San Diego Parks and Rec, overall water usage in San Diego County, drough statistics in San Diego County, and change in drought over time. The data can be stored in CSV, JSON, and/or XML files. Also any graphs that can be brought in with python could be useful as well. The observations I would have could be numbers reporting the number of gallons used/saved in San Diego County as well as statistics of how the drought. I think that having too many observations would make drawing correlations very difficult. Ideally the data would be numbers of amounts or statistics from the previously stated categories. "
   ]
  },
  {
   "cell_type": "markdown",
   "metadata": {},
   "source": [
    "# Ethics & Privacy"
   ]
  },
  {
   "cell_type": "markdown",
   "metadata": {},
   "source": [
    "Since the data is likely going to come from government agencies, it is likely going to be data that is already available to the public. There is concerns in ethics if one were to access governemtn data that was not made public. While it is likely that the DPR runs analysis on their water conservation, it may be potentially problematic to analyze their data with the goal of critizing their sustainability policies. Data regarding total San Diego water consumption may be taken from private citizens, which if not parsed correctly, may contain private information such as addresses, bills, etc. I dont think that the topic of research is in and of itself problematic, since it is with intentions to promote water conservation and overall sustainability. "
   ]
  },
  {
   "cell_type": "markdown",
   "metadata": {},
   "source": [
    "In order to combat these issues, I would only use data that is ehtically sourced, and publically available  Any data should not have private citizens' information, and if it were to be included in the data, I would remove any identifiers and private information from the data set before running the analyses. Though the goal would be to analyze how much of a difference the DPR Water Conservation is making in the drought, I will be sure to communicate my analysis so that it does not come off critical of the policies, and rather commenting on how much impact the policy is making. "
   ]
  }
 ],
 "metadata": {
  "kernelspec": {
   "display_name": "Python 3",
   "language": "python",
   "name": "python3"
  },
  "language_info": {
   "codemirror_mode": {
    "name": "ipython",
    "version": 3
   },
   "file_extension": ".py",
   "mimetype": "text/x-python",
   "name": "python",
   "nbconvert_exporter": "python",
   "pygments_lexer": "ipython3",
   "version": "3.7.3"
  }
 },
 "nbformat": 4,
 "nbformat_minor": 2
}
