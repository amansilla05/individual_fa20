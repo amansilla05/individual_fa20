{
 "cells": [
  {
   "cell_type": "markdown",
   "metadata": {},
   "source": [
    "# COGS 108 - Final Project "
   ]
  },
  {
   "cell_type": "markdown",
   "metadata": {},
   "source": [
    "# Overview"
   ]
  },
  {
   "cell_type": "markdown",
   "metadata": {},
   "source": [
    "One of San Diego County's attractions are the multitude of hikes that one can visit. There are so many to choose from, and people want to know where to find the best hikes. Using data generated from Yelp reviews of San Diego park locations, I looked into which parks had the highest ratings and where they were located. This data was then plotted onto a map of San Diego county in order to analyze if there are any patterns in the distribution of top ranked San Deigo County hikes. "
   ]
  },
  {
   "cell_type": "markdown",
   "metadata": {},
   "source": [
    "# Name & GitHub\n",
    "\n",
    "- Name: Andrea Mansilla\n",
    "- GitHub Username: amansilla05"
   ]
  },
  {
   "cell_type": "markdown",
   "metadata": {},
   "source": [
    "# Research Question"
   ]
  },
  {
   "cell_type": "markdown",
   "metadata": {},
   "source": [
    "In what regions of San Diego County are the best (top rated) hikes located?"
   ]
  },
  {
   "cell_type": "markdown",
   "metadata": {},
   "source": [
    "## Background and Prior Work"
   ]
  },
  {
   "cell_type": "markdown",
   "metadata": {},
   "source": [
    "**Background:** I spent some time looking up trails in SD county and going through reviews on Alltrail: a website similar to Yelp but focused only on hiking locations. I also went through the data available on github to see which dataset(s) best fit my objective of finding the locations most popular hikes. \n",
    "\n",
    "**Prior Work:** The work I did throughout the course has helped prepare for doing my own data cleaning and subsequent analysis. I utilzied the Tutorials on GitHub as well as all of the lecture slides available to us. Having experience from completing projects, gave me the skills to know which type of analysis to use and the different packages that would produce the appropriate results \n",
    "\n",
    "References (include links):\n",
    "- 1) https://www.alltrails.com/us/california/san-diego\n",
    "- 2) http://hikingsdcounty.com/hiking-trails-in-san-diego-county-map-view/"
   ]
  },
  {
   "cell_type": "markdown",
   "metadata": {},
   "source": [
    "# Hypothesis\n"
   ]
  },
  {
   "cell_type": "markdown",
   "metadata": {},
   "source": [
    "The most popular hikes in San Diego country are going to be found along the coast or further inland; there will be no clustering towards the middle of the city."
   ]
  },
  {
   "cell_type": "markdown",
   "metadata": {},
   "source": [
    "# Dataset(s)"
   ]
  },
  {
   "cell_type": "markdown",
   "metadata": {},
   "source": [
    "- Dataset Name: **yelp_SD_parks.csv**\n",
    "- Link to the dataset: \n",
    "- Number of observations: 834 observations\n",
    "\n",
    "The data set contains information about the yelp page of several San Diego County parks, trails, playgrounds, and other recreation facilities. This information includes the name, address, phone number, and lattitude/longitude coordinates of each park as well as the yelp id, url, rating and number of reviews. "
   ]
  },
  {
   "cell_type": "markdown",
   "metadata": {},
   "source": [
    "- Dataset Name: **parks_sd.geojson**\n",
    "- Link to the dataset: https://data.sandiego.gov/datasets/park-locations/\n",
    "- Number of observations: a lot \n",
    "\n",
    "The data is displayed as blue shaded regions, representing parks, on a map of San Diego county; due to this formatting of the data, it is difficult to see exactly how many observations there are. Each park has the following information: objectid, name (short name), alias (long name), gisacres (number of calculate acres), park type (either Historic, Local, National, Open Space, Other, Regional, State), location, and the owner. "
   ]
  },
  {
   "cell_type": "markdown",
   "metadata": {},
   "source": [
    "If you plan to use multiple datasets, add 1-2 sentences about how you plan to combine these datasets."
   ]
  },
  {
   "cell_type": "markdown",
   "metadata": {},
   "source": [
    "# Setup"
   ]
  },
  {
   "cell_type": "code",
   "execution_count": 1,
   "metadata": {},
   "outputs": [],
   "source": [
    "## imports\n",
    "import pandas as pd\n",
    "import numpy as np\n",
    "##import geopandas as gpd\n",
    "import matplotlib.pyplot as plt\n",
    "import geojson\n",
    "import folium\n",
    "%matplotlib inline\n",
    "\n",
    "## reading the data \n",
    "yelp_df = pd.read_csv('https://raw.githubusercontent.com/COGS108/individual_fa20/master/data/yelp_SD_parks.csv')\n",
    "##parks_map = gpd.read_file('https://raw.githubusercontent.com/COGS108/individual_fa20/master/data/parks_datasd.geojson')"
   ]
  },
  {
   "cell_type": "code",
   "execution_count": 2,
   "metadata": {},
   "outputs": [],
   "source": [
    "#change number of rows being displayed in order to more easily check the data \n",
    "pd.set_option(\"max_rows\", 3000)"
   ]
  },
  {
   "cell_type": "code",
   "execution_count": 3,
   "metadata": {},
   "outputs": [
    {
     "data": {
      "text/html": [
       "<div>\n",
       "<style scoped>\n",
       "    .dataframe tbody tr th:only-of-type {\n",
       "        vertical-align: middle;\n",
       "    }\n",
       "\n",
       "    .dataframe tbody tr th {\n",
       "        vertical-align: top;\n",
       "    }\n",
       "\n",
       "    .dataframe thead th {\n",
       "        text-align: right;\n",
       "    }\n",
       "</style>\n",
       "<table border=\"1\" class=\"dataframe\">\n",
       "  <thead>\n",
       "    <tr style=\"text-align: right;\">\n",
       "      <th></th>\n",
       "      <th>name</th>\n",
       "      <th>address</th>\n",
       "      <th>phone</th>\n",
       "      <th>id</th>\n",
       "      <th>url</th>\n",
       "      <th>rating</th>\n",
       "      <th>review_count</th>\n",
       "      <th>longitude</th>\n",
       "      <th>latitude</th>\n",
       "      <th>is_closed</th>\n",
       "    </tr>\n",
       "  </thead>\n",
       "  <tbody>\n",
       "    <tr>\n",
       "      <th>0</th>\n",
       "      <td>Balboa Park</td>\n",
       "      <td>1549 El Prado San Diego, CA 92101</td>\n",
       "      <td>1.619239e+10</td>\n",
       "      <td>9M_FW_-Ipx93I36w-_ykBg</td>\n",
       "      <td>https://www.yelp.com/biz/balboa-park-san-diego...</td>\n",
       "      <td>5.0</td>\n",
       "      <td>2105</td>\n",
       "      <td>-117.153150</td>\n",
       "      <td>32.734502</td>\n",
       "      <td>False</td>\n",
       "    </tr>\n",
       "    <tr>\n",
       "      <th>1</th>\n",
       "      <td>Civita Park</td>\n",
       "      <td>7960 Civita Blvd San Diego, CA 92108</td>\n",
       "      <td>NaN</td>\n",
       "      <td>3AEHjqNrTmggA6G9VdhQfg</td>\n",
       "      <td>https://www.yelp.com/biz/civita-park-san-diego...</td>\n",
       "      <td>4.5</td>\n",
       "      <td>46</td>\n",
       "      <td>-117.147278</td>\n",
       "      <td>32.778315</td>\n",
       "      <td>False</td>\n",
       "    </tr>\n",
       "    <tr>\n",
       "      <th>2</th>\n",
       "      <td>Waterfront Park</td>\n",
       "      <td>1600 Pacific Hwy San Diego, CA 92101</td>\n",
       "      <td>1.619233e+10</td>\n",
       "      <td>3unbJeYrn1RmInZGmjp80g</td>\n",
       "      <td>https://www.yelp.com/biz/waterfront-park-san-d...</td>\n",
       "      <td>4.5</td>\n",
       "      <td>242</td>\n",
       "      <td>-117.172479</td>\n",
       "      <td>32.721952</td>\n",
       "      <td>False</td>\n",
       "    </tr>\n",
       "    <tr>\n",
       "      <th>3</th>\n",
       "      <td>Trolley Barn Park</td>\n",
       "      <td>Adams Ave And Florida St San Diego, CA 92116</td>\n",
       "      <td>NaN</td>\n",
       "      <td>PvHxIYrmaiFKdWUDTMDzcg</td>\n",
       "      <td>https://www.yelp.com/biz/trolley-barn-park-san...</td>\n",
       "      <td>4.5</td>\n",
       "      <td>102</td>\n",
       "      <td>-117.143789</td>\n",
       "      <td>32.762463</td>\n",
       "      <td>False</td>\n",
       "    </tr>\n",
       "    <tr>\n",
       "      <th>4</th>\n",
       "      <td>Bay View Park</td>\n",
       "      <td>413 1st St Coronado, CA 92118</td>\n",
       "      <td>NaN</td>\n",
       "      <td>6IF4VB9-fkv_F-LBvG8ppQ</td>\n",
       "      <td>https://www.yelp.com/biz/bay-view-park-coronad...</td>\n",
       "      <td>5.0</td>\n",
       "      <td>42</td>\n",
       "      <td>-117.178967</td>\n",
       "      <td>32.701785</td>\n",
       "      <td>False</td>\n",
       "    </tr>\n",
       "  </tbody>\n",
       "</table>\n",
       "</div>"
      ],
      "text/plain": [
       "                name                                       address  \\\n",
       "0        Balboa Park             1549 El Prado San Diego, CA 92101   \n",
       "1        Civita Park          7960 Civita Blvd San Diego, CA 92108   \n",
       "2    Waterfront Park          1600 Pacific Hwy San Diego, CA 92101   \n",
       "3  Trolley Barn Park  Adams Ave And Florida St San Diego, CA 92116   \n",
       "4      Bay View Park                 413 1st St Coronado, CA 92118   \n",
       "\n",
       "          phone                      id  \\\n",
       "0  1.619239e+10  9M_FW_-Ipx93I36w-_ykBg   \n",
       "1           NaN  3AEHjqNrTmggA6G9VdhQfg   \n",
       "2  1.619233e+10  3unbJeYrn1RmInZGmjp80g   \n",
       "3           NaN  PvHxIYrmaiFKdWUDTMDzcg   \n",
       "4           NaN  6IF4VB9-fkv_F-LBvG8ppQ   \n",
       "\n",
       "                                                 url  rating  review_count  \\\n",
       "0  https://www.yelp.com/biz/balboa-park-san-diego...     5.0          2105   \n",
       "1  https://www.yelp.com/biz/civita-park-san-diego...     4.5            46   \n",
       "2  https://www.yelp.com/biz/waterfront-park-san-d...     4.5           242   \n",
       "3  https://www.yelp.com/biz/trolley-barn-park-san...     4.5           102   \n",
       "4  https://www.yelp.com/biz/bay-view-park-coronad...     5.0            42   \n",
       "\n",
       "    longitude   latitude  is_closed  \n",
       "0 -117.153150  32.734502      False  \n",
       "1 -117.147278  32.778315      False  \n",
       "2 -117.172479  32.721952      False  \n",
       "3 -117.143789  32.762463      False  \n",
       "4 -117.178967  32.701785      False  "
      ]
     },
     "execution_count": 3,
     "metadata": {},
     "output_type": "execute_result"
    }
   ],
   "source": [
    "# check df\n",
    "yelp_df.head()"
   ]
  },
  {
   "cell_type": "markdown",
   "metadata": {},
   "source": [
    "# Data Cleaning"
   ]
  },
  {
   "cell_type": "markdown",
   "metadata": {},
   "source": [
    "1. use a function \"is_hike\" to find which entries in dataframe are hikes from keywords. replace non-hike entries with None apply function to dataframe\n",
    "2. drop unneccessary columns from dataframe\n",
    "3. drop rows with None values \n",
    "4. sort the rows in alphabetical order by the name\n",
    "5. reset the indexes \n",
    "6. repeat for other data set\n",
    "    - **note:** did not end up using parks_datasd.geojson but I wanted to leave in the work that I did to clean the data because I am proud of the work I did."
   ]
  },
  {
   "cell_type": "code",
   "execution_count": 4,
   "metadata": {},
   "outputs": [],
   "source": [
    "## function for finding hikes\n",
    "def is_hike(park):\n",
    "    park = str(park).lower()\n",
    "    if 'trail' in park:\n",
    "        return park\n",
    "    elif 'summit' in park:\n",
    "        return park\n",
    "    elif 'canyon' in park:\n",
    "        return park\n",
    "    else:  \n",
    "        return None"
   ]
  },
  {
   "cell_type": "code",
   "execution_count": 5,
   "metadata": {},
   "outputs": [],
   "source": [
    "##apply function to the name column of yelp_df\n",
    "yelp_df['name'] = yelp_df['name'].apply(is_hike)"
   ]
  },
  {
   "cell_type": "code",
   "execution_count": 6,
   "metadata": {},
   "outputs": [],
   "source": [
    "##remove phone, id, url, and is_closed columns from yelp_df\n",
    "yelp_df = yelp_df.drop(columns = ['address', 'phone', 'id', 'url', 'review_count', 'is_closed'])"
   ]
  },
  {
   "cell_type": "code",
   "execution_count": 7,
   "metadata": {},
   "outputs": [],
   "source": [
    "## drop rows with None values in name to only include hikes in df\n",
    "yelp_df = yelp_df.dropna(axis = 0, how = 'any')"
   ]
  },
  {
   "cell_type": "code",
   "execution_count": 8,
   "metadata": {},
   "outputs": [],
   "source": [
    "## alphabetize rows by 'name' column\n",
    "yelp_df = yelp_df.sort_values(by = ['name'])"
   ]
  },
  {
   "cell_type": "code",
   "execution_count": 9,
   "metadata": {},
   "outputs": [],
   "source": [
    "## reset the indexes to ascending numerical order\n",
    "yelp_df = yelp_df.reset_index(drop = True)\n",
    "\n",
    "## source: https://pandas.pydata.org/pandas-docs/stable/reference/api/pandas.DataFrame.reset_index.html"
   ]
  },
  {
   "cell_type": "code",
   "execution_count": 10,
   "metadata": {},
   "outputs": [],
   "source": [
    "## find most top rated hikes... so drop col <4.0\n",
    "    # Get names of indexes where rating <4.0\n",
    "indexNames = yelp_df[ yelp_df['rating'] < 4.0 ].index\n",
    "    # Delete these row indexes from dataFrame\n",
    "yelp_df.drop(indexNames , inplace=True)\n",
    "\n",
    "## source: https://www.geeksforgeeks.org/drop-rows-from-the-dataframe-based-on-certain-condition-applied-on-a-column/"
   ]
  },
  {
   "cell_type": "code",
   "execution_count": 11,
   "metadata": {},
   "outputs": [],
   "source": [
    "## reset the indexes to ascending numerical order\n",
    "yelp_df = yelp_df.reset_index(drop = True)\n",
    "\n",
    "## source: https://pandas.pydata.org/pandas-docs/stable/reference/api/pandas.DataFrame.reset_index.html"
   ]
  },
  {
   "cell_type": "code",
   "execution_count": 12,
   "metadata": {},
   "outputs": [
    {
     "data": {
      "text/html": [
       "<div>\n",
       "<style scoped>\n",
       "    .dataframe tbody tr th:only-of-type {\n",
       "        vertical-align: middle;\n",
       "    }\n",
       "\n",
       "    .dataframe tbody tr th {\n",
       "        vertical-align: top;\n",
       "    }\n",
       "\n",
       "    .dataframe thead th {\n",
       "        text-align: right;\n",
       "    }\n",
       "</style>\n",
       "<table border=\"1\" class=\"dataframe\">\n",
       "  <thead>\n",
       "    <tr style=\"text-align: right;\">\n",
       "      <th></th>\n",
       "      <th>name</th>\n",
       "      <th>rating</th>\n",
       "      <th>longitude</th>\n",
       "      <th>latitude</th>\n",
       "    </tr>\n",
       "  </thead>\n",
       "  <tbody>\n",
       "    <tr>\n",
       "      <th>0</th>\n",
       "      <td>annie's canyon trail</td>\n",
       "      <td>4.5</td>\n",
       "      <td>-117.272446</td>\n",
       "      <td>33.003597</td>\n",
       "    </tr>\n",
       "    <tr>\n",
       "      <th>1</th>\n",
       "      <td>camp elliot trails</td>\n",
       "      <td>4.0</td>\n",
       "      <td>-117.055900</td>\n",
       "      <td>32.817864</td>\n",
       "    </tr>\n",
       "    <tr>\n",
       "      <th>2</th>\n",
       "      <td>canyonside community park</td>\n",
       "      <td>4.5</td>\n",
       "      <td>-117.130233</td>\n",
       "      <td>32.942150</td>\n",
       "    </tr>\n",
       "    <tr>\n",
       "      <th>3</th>\n",
       "      <td>coast to crest trail</td>\n",
       "      <td>4.5</td>\n",
       "      <td>-117.067740</td>\n",
       "      <td>33.066486</td>\n",
       "    </tr>\n",
       "    <tr>\n",
       "      <th>4</th>\n",
       "      <td>coast walk trail</td>\n",
       "      <td>5.0</td>\n",
       "      <td>-117.266270</td>\n",
       "      <td>32.848640</td>\n",
       "    </tr>\n",
       "    <tr>\n",
       "      <th>5</th>\n",
       "      <td>coastal rail trail</td>\n",
       "      <td>4.5</td>\n",
       "      <td>-117.268889</td>\n",
       "      <td>32.980309</td>\n",
       "    </tr>\n",
       "    <tr>\n",
       "      <th>6</th>\n",
       "      <td>cypress canyon park</td>\n",
       "      <td>4.5</td>\n",
       "      <td>-117.064023</td>\n",
       "      <td>32.923995</td>\n",
       "    </tr>\n",
       "    <tr>\n",
       "      <th>7</th>\n",
       "      <td>del mar trails park</td>\n",
       "      <td>4.5</td>\n",
       "      <td>-117.217885</td>\n",
       "      <td>32.943851</td>\n",
       "    </tr>\n",
       "    <tr>\n",
       "      <th>8</th>\n",
       "      <td>el cajon mountain hiking trail</td>\n",
       "      <td>4.5</td>\n",
       "      <td>-116.884575</td>\n",
       "      <td>32.912594</td>\n",
       "    </tr>\n",
       "    <tr>\n",
       "      <th>9</th>\n",
       "      <td>florida canyon</td>\n",
       "      <td>4.0</td>\n",
       "      <td>-117.142446</td>\n",
       "      <td>32.726833</td>\n",
       "    </tr>\n",
       "    <tr>\n",
       "      <th>10</th>\n",
       "      <td>juniper canyon open space</td>\n",
       "      <td>5.0</td>\n",
       "      <td>-117.121446</td>\n",
       "      <td>32.730103</td>\n",
       "    </tr>\n",
       "    <tr>\n",
       "      <th>11</th>\n",
       "      <td>kwaay paay trail and summit</td>\n",
       "      <td>4.5</td>\n",
       "      <td>-117.056010</td>\n",
       "      <td>32.817954</td>\n",
       "    </tr>\n",
       "    <tr>\n",
       "      <th>12</th>\n",
       "      <td>la costa canyon park</td>\n",
       "      <td>4.0</td>\n",
       "      <td>-117.242279</td>\n",
       "      <td>33.088835</td>\n",
       "    </tr>\n",
       "    <tr>\n",
       "      <th>13</th>\n",
       "      <td>la jolla trail</td>\n",
       "      <td>4.0</td>\n",
       "      <td>-117.251678</td>\n",
       "      <td>32.885099</td>\n",
       "    </tr>\n",
       "    <tr>\n",
       "      <th>14</th>\n",
       "      <td>los penasquitos canyon preserve</td>\n",
       "      <td>4.0</td>\n",
       "      <td>-117.127662</td>\n",
       "      <td>32.937100</td>\n",
       "    </tr>\n",
       "    <tr>\n",
       "      <th>15</th>\n",
       "      <td>maple canyon trail</td>\n",
       "      <td>4.0</td>\n",
       "      <td>-117.162210</td>\n",
       "      <td>32.737126</td>\n",
       "    </tr>\n",
       "    <tr>\n",
       "      <th>16</th>\n",
       "      <td>marsh trail at torry pones reseve</td>\n",
       "      <td>5.0</td>\n",
       "      <td>-117.259959</td>\n",
       "      <td>32.932315</td>\n",
       "    </tr>\n",
       "    <tr>\n",
       "      <th>17</th>\n",
       "      <td>miner's ridge loop trail</td>\n",
       "      <td>4.0</td>\n",
       "      <td>-117.119760</td>\n",
       "      <td>32.993670</td>\n",
       "    </tr>\n",
       "    <tr>\n",
       "      <th>18</th>\n",
       "      <td>mission trails regional park</td>\n",
       "      <td>4.5</td>\n",
       "      <td>-117.056010</td>\n",
       "      <td>32.817955</td>\n",
       "    </tr>\n",
       "    <tr>\n",
       "      <th>19</th>\n",
       "      <td>mission trails regional park</td>\n",
       "      <td>4.5</td>\n",
       "      <td>-117.078919</td>\n",
       "      <td>32.825595</td>\n",
       "    </tr>\n",
       "    <tr>\n",
       "      <th>20</th>\n",
       "      <td>mount woodson trail</td>\n",
       "      <td>4.5</td>\n",
       "      <td>-117.014870</td>\n",
       "      <td>33.007179</td>\n",
       "    </tr>\n",
       "    <tr>\n",
       "      <th>21</th>\n",
       "      <td>navajo canyon open space</td>\n",
       "      <td>4.0</td>\n",
       "      <td>-117.073692</td>\n",
       "      <td>32.793412</td>\n",
       "    </tr>\n",
       "    <tr>\n",
       "      <th>22</th>\n",
       "      <td>north fortuna summit</td>\n",
       "      <td>5.0</td>\n",
       "      <td>-117.228340</td>\n",
       "      <td>32.879660</td>\n",
       "    </tr>\n",
       "    <tr>\n",
       "      <th>23</th>\n",
       "      <td>oak canyon trail</td>\n",
       "      <td>4.5</td>\n",
       "      <td>-117.044752</td>\n",
       "      <td>32.844461</td>\n",
       "    </tr>\n",
       "    <tr>\n",
       "      <th>24</th>\n",
       "      <td>old mission dam trail</td>\n",
       "      <td>4.0</td>\n",
       "      <td>-117.042698</td>\n",
       "      <td>32.839412</td>\n",
       "    </tr>\n",
       "    <tr>\n",
       "      <th>25</th>\n",
       "      <td>radio drive canyon</td>\n",
       "      <td>5.0</td>\n",
       "      <td>-117.072761</td>\n",
       "      <td>32.710059</td>\n",
       "    </tr>\n",
       "    <tr>\n",
       "      <th>26</th>\n",
       "      <td>rancho mission canyon park</td>\n",
       "      <td>4.0</td>\n",
       "      <td>-117.065088</td>\n",
       "      <td>32.806457</td>\n",
       "    </tr>\n",
       "    <tr>\n",
       "      <th>27</th>\n",
       "      <td>rice canyon trail</td>\n",
       "      <td>4.0</td>\n",
       "      <td>-117.023145</td>\n",
       "      <td>32.641241</td>\n",
       "    </tr>\n",
       "    <tr>\n",
       "      <th>28</th>\n",
       "      <td>ridgeline trailhead</td>\n",
       "      <td>4.5</td>\n",
       "      <td>-117.193222</td>\n",
       "      <td>33.103046</td>\n",
       "    </tr>\n",
       "    <tr>\n",
       "      <th>29</th>\n",
       "      <td>rose canyon open space park</td>\n",
       "      <td>4.0</td>\n",
       "      <td>-117.212504</td>\n",
       "      <td>32.859997</td>\n",
       "    </tr>\n",
       "    <tr>\n",
       "      <th>30</th>\n",
       "      <td>rose creek trail</td>\n",
       "      <td>4.0</td>\n",
       "      <td>-117.219170</td>\n",
       "      <td>32.806498</td>\n",
       "    </tr>\n",
       "    <tr>\n",
       "      <th>31</th>\n",
       "      <td>shepard canyon</td>\n",
       "      <td>4.5</td>\n",
       "      <td>-117.101071</td>\n",
       "      <td>32.833352</td>\n",
       "    </tr>\n",
       "    <tr>\n",
       "      <th>32</th>\n",
       "      <td>stonewall peak trail</td>\n",
       "      <td>4.5</td>\n",
       "      <td>-116.579102</td>\n",
       "      <td>32.959642</td>\n",
       "    </tr>\n",
       "    <tr>\n",
       "      <th>33</th>\n",
       "      <td>sweetwater summit regional park</td>\n",
       "      <td>4.0</td>\n",
       "      <td>-117.007962</td>\n",
       "      <td>32.684989</td>\n",
       "    </tr>\n",
       "    <tr>\n",
       "      <th>34</th>\n",
       "      <td>switzer canyon open space park</td>\n",
       "      <td>4.0</td>\n",
       "      <td>-117.133499</td>\n",
       "      <td>32.733015</td>\n",
       "    </tr>\n",
       "    <tr>\n",
       "      <th>35</th>\n",
       "      <td>sycamore canyon park</td>\n",
       "      <td>5.0</td>\n",
       "      <td>-117.026523</td>\n",
       "      <td>32.923739</td>\n",
       "    </tr>\n",
       "    <tr>\n",
       "      <th>36</th>\n",
       "      <td>sycamore canyon park</td>\n",
       "      <td>4.5</td>\n",
       "      <td>-117.814661</td>\n",
       "      <td>34.010508</td>\n",
       "    </tr>\n",
       "    <tr>\n",
       "      <th>37</th>\n",
       "      <td>tecolote canyon natural park &amp; nature center</td>\n",
       "      <td>4.0</td>\n",
       "      <td>-117.197511</td>\n",
       "      <td>32.775740</td>\n",
       "    </tr>\n",
       "    <tr>\n",
       "      <th>38</th>\n",
       "      <td>the river trail</td>\n",
       "      <td>4.0</td>\n",
       "      <td>-117.263008</td>\n",
       "      <td>32.970714</td>\n",
       "    </tr>\n",
       "    <tr>\n",
       "      <th>39</th>\n",
       "      <td>twin trails park</td>\n",
       "      <td>4.0</td>\n",
       "      <td>-117.134290</td>\n",
       "      <td>32.959009</td>\n",
       "    </tr>\n",
       "    <tr>\n",
       "      <th>40</th>\n",
       "      <td>ward canyon neighborhood park</td>\n",
       "      <td>4.0</td>\n",
       "      <td>-117.110592</td>\n",
       "      <td>32.762840</td>\n",
       "    </tr>\n",
       "  </tbody>\n",
       "</table>\n",
       "</div>"
      ],
      "text/plain": [
       "                                            name  rating   longitude  \\\n",
       "0                           annie's canyon trail     4.5 -117.272446   \n",
       "1                             camp elliot trails     4.0 -117.055900   \n",
       "2                      canyonside community park     4.5 -117.130233   \n",
       "3                           coast to crest trail     4.5 -117.067740   \n",
       "4                               coast walk trail     5.0 -117.266270   \n",
       "5                             coastal rail trail     4.5 -117.268889   \n",
       "6                            cypress canyon park     4.5 -117.064023   \n",
       "7                            del mar trails park     4.5 -117.217885   \n",
       "8                 el cajon mountain hiking trail     4.5 -116.884575   \n",
       "9                                 florida canyon     4.0 -117.142446   \n",
       "10                     juniper canyon open space     5.0 -117.121446   \n",
       "11                   kwaay paay trail and summit     4.5 -117.056010   \n",
       "12                          la costa canyon park     4.0 -117.242279   \n",
       "13                                la jolla trail     4.0 -117.251678   \n",
       "14               los penasquitos canyon preserve     4.0 -117.127662   \n",
       "15                            maple canyon trail     4.0 -117.162210   \n",
       "16             marsh trail at torry pones reseve     5.0 -117.259959   \n",
       "17                      miner's ridge loop trail     4.0 -117.119760   \n",
       "18                  mission trails regional park     4.5 -117.056010   \n",
       "19                  mission trails regional park     4.5 -117.078919   \n",
       "20                           mount woodson trail     4.5 -117.014870   \n",
       "21                      navajo canyon open space     4.0 -117.073692   \n",
       "22                          north fortuna summit     5.0 -117.228340   \n",
       "23                              oak canyon trail     4.5 -117.044752   \n",
       "24                         old mission dam trail     4.0 -117.042698   \n",
       "25                            radio drive canyon     5.0 -117.072761   \n",
       "26                    rancho mission canyon park     4.0 -117.065088   \n",
       "27                             rice canyon trail     4.0 -117.023145   \n",
       "28                           ridgeline trailhead     4.5 -117.193222   \n",
       "29                   rose canyon open space park     4.0 -117.212504   \n",
       "30                              rose creek trail     4.0 -117.219170   \n",
       "31                                shepard canyon     4.5 -117.101071   \n",
       "32                          stonewall peak trail     4.5 -116.579102   \n",
       "33               sweetwater summit regional park     4.0 -117.007962   \n",
       "34                switzer canyon open space park     4.0 -117.133499   \n",
       "35                          sycamore canyon park     5.0 -117.026523   \n",
       "36                          sycamore canyon park     4.5 -117.814661   \n",
       "37  tecolote canyon natural park & nature center     4.0 -117.197511   \n",
       "38                               the river trail     4.0 -117.263008   \n",
       "39                              twin trails park     4.0 -117.134290   \n",
       "40                 ward canyon neighborhood park     4.0 -117.110592   \n",
       "\n",
       "     latitude  \n",
       "0   33.003597  \n",
       "1   32.817864  \n",
       "2   32.942150  \n",
       "3   33.066486  \n",
       "4   32.848640  \n",
       "5   32.980309  \n",
       "6   32.923995  \n",
       "7   32.943851  \n",
       "8   32.912594  \n",
       "9   32.726833  \n",
       "10  32.730103  \n",
       "11  32.817954  \n",
       "12  33.088835  \n",
       "13  32.885099  \n",
       "14  32.937100  \n",
       "15  32.737126  \n",
       "16  32.932315  \n",
       "17  32.993670  \n",
       "18  32.817955  \n",
       "19  32.825595  \n",
       "20  33.007179  \n",
       "21  32.793412  \n",
       "22  32.879660  \n",
       "23  32.844461  \n",
       "24  32.839412  \n",
       "25  32.710059  \n",
       "26  32.806457  \n",
       "27  32.641241  \n",
       "28  33.103046  \n",
       "29  32.859997  \n",
       "30  32.806498  \n",
       "31  32.833352  \n",
       "32  32.959642  \n",
       "33  32.684989  \n",
       "34  32.733015  \n",
       "35  32.923739  \n",
       "36  34.010508  \n",
       "37  32.775740  \n",
       "38  32.970714  \n",
       "39  32.959009  \n",
       "40  32.762840  "
      ]
     },
     "execution_count": 12,
     "metadata": {},
     "output_type": "execute_result"
    }
   ],
   "source": [
    "##check the dataframe\n",
    "yelp_df"
   ]
  },
  {
   "cell_type": "code",
   "execution_count": 13,
   "metadata": {},
   "outputs": [],
   "source": [
    "## convert park_gpd into pandas dataframe\n",
    "#parks_df = pd.DataFrame(parks_gpd)"
   ]
  },
  {
   "cell_type": "code",
   "execution_count": 14,
   "metadata": {},
   "outputs": [],
   "source": [
    "#parks_df.head()"
   ]
  },
  {
   "cell_type": "code",
   "execution_count": 15,
   "metadata": {},
   "outputs": [],
   "source": [
    "## repeat data cleaning steps for parks_df\n",
    "\n",
    "##apply function to the name column\n",
    "#parks_df['alias'] = parks_df['alias'].apply(is_hike)\n",
    "\n",
    "##remove phone, id, url, and is_closed columns from yelp_df\n",
    "#parks_df = parks_df.drop(columns = ['objectid', 'name', 'park_type', 'location', 'owner'])\n",
    "\n",
    "## drop rows with None values in name to only include hikes in df\n",
    "#parks_df = parks_df.dropna(axis = 0, how = 'any') \n",
    "\n",
    "## alphabetize rows by 'name' column\n",
    "#parks_df = parks_df.sort_values(by = ['alias']) ## replacing name with values from location???\n",
    "\n",
    "## #reset the indexes to ascending numerical order\n",
    "#parks_df = parks_df.reset_index()\n",
    "\n",
    "## replace old indexes with the new ones\n",
    "#parks_df = parks_df.drop(columns = ['index'])"
   ]
  },
  {
   "cell_type": "code",
   "execution_count": 16,
   "metadata": {},
   "outputs": [],
   "source": [
    "## drop duplicate values in name\n",
    "#parks_df = parks_df.drop_duplicates(subset = ['alias'])"
   ]
  },
  {
   "cell_type": "code",
   "execution_count": 17,
   "metadata": {},
   "outputs": [],
   "source": [
    "#check data\n",
    "#parks_df"
   ]
  },
  {
   "cell_type": "markdown",
   "metadata": {},
   "source": [
    "# Data Analysis & Results"
   ]
  },
  {
   "cell_type": "markdown",
   "metadata": {},
   "source": [
    "Include cells that describe the steps in your data analysis."
   ]
  },
  {
   "cell_type": "code",
   "execution_count": 18,
   "metadata": {},
   "outputs": [],
   "source": [
    "## get lattitudes and longitudes from yelp\n",
    "longitude = yelp_df['longitude'].tolist() \n",
    "latitude = yelp_df['latitude'].tolist() \n",
    "name = yelp_df['name'].tolist()"
   ]
  },
  {
   "cell_type": "code",
   "execution_count": 19,
   "metadata": {},
   "outputs": [
    {
     "name": "stdout",
     "output_type": "stream",
     "text": [
      "longitudes: [-117.2724462, -117.0558997, -117.130233, -117.06773999999999, -117.26626999999999, -117.2688892, -117.06402340000001, -117.21788529999999, -116.8845749, -117.1424463, -117.1214457, -117.05601000000001, -117.24227920000001, -117.251678, -117.12766200000002, -117.16221029999998, -117.2599594, -117.11976000000001, -117.05601000000001, -117.0789191, -117.01487040000002, -117.07369209999999, -117.22833999999999, -117.04475159999998, -117.0426976, -117.07276110000001, -117.0650876, -117.023145, -117.19322199999999, -117.21250400000001, -117.2191697, -117.10107109999998, -116.57910179999999, -117.0079621, -117.1334989, -117.02652340000002, -117.8146607, -117.1975108, -117.26300790000002, -117.13429, -117.1105922]\n",
      "latitudes: [33.003597, 32.817863800000005, 32.94215006, 33.06648563, 32.84864, 32.98030915, 32.92399496, 32.9438511, 32.91259447, 32.72683341, 32.73010346, 32.817954, 33.08883526, 32.885099, 32.9371, 32.73712585, 32.9323146, 32.99367018, 32.817955, 32.82559464, 33.0071789, 32.79341215, 32.87966, 32.84446126, 32.83941166, 32.7100593, 32.80645713, 32.64124139, 33.10304622, 32.859997, 32.80649811, 32.83335213, 32.95964225, 32.68498877, 32.733015, 32.92373863, 34.01050772, 32.77573983, 32.97071399, 32.959009, 32.76283969]\n"
     ]
    }
   ],
   "source": [
    "## check lists\n",
    "print('longitudes:', longitude)\n",
    "print('latitudes:', latitude)"
   ]
  },
  {
   "cell_type": "code",
   "execution_count": 20,
   "metadata": {},
   "outputs": [
    {
     "data": {
      "text/html": [
       "<div>\n",
       "<style scoped>\n",
       "    .dataframe tbody tr th:only-of-type {\n",
       "        vertical-align: middle;\n",
       "    }\n",
       "\n",
       "    .dataframe tbody tr th {\n",
       "        vertical-align: top;\n",
       "    }\n",
       "\n",
       "    .dataframe thead th {\n",
       "        text-align: right;\n",
       "    }\n",
       "</style>\n",
       "<table border=\"1\" class=\"dataframe\">\n",
       "  <thead>\n",
       "    <tr style=\"text-align: right;\">\n",
       "      <th></th>\n",
       "      <th>latitude</th>\n",
       "      <th>longitude</th>\n",
       "      <th>name</th>\n",
       "    </tr>\n",
       "  </thead>\n",
       "  <tbody>\n",
       "    <tr>\n",
       "      <th>0</th>\n",
       "      <td>33.003597</td>\n",
       "      <td>-117.272446</td>\n",
       "      <td>annie's canyon trail</td>\n",
       "    </tr>\n",
       "    <tr>\n",
       "      <th>1</th>\n",
       "      <td>32.817864</td>\n",
       "      <td>-117.055900</td>\n",
       "      <td>camp elliot trails</td>\n",
       "    </tr>\n",
       "    <tr>\n",
       "      <th>2</th>\n",
       "      <td>32.942150</td>\n",
       "      <td>-117.130233</td>\n",
       "      <td>canyonside community park</td>\n",
       "    </tr>\n",
       "    <tr>\n",
       "      <th>3</th>\n",
       "      <td>33.066486</td>\n",
       "      <td>-117.067740</td>\n",
       "      <td>coast to crest trail</td>\n",
       "    </tr>\n",
       "    <tr>\n",
       "      <th>4</th>\n",
       "      <td>32.848640</td>\n",
       "      <td>-117.266270</td>\n",
       "      <td>coast walk trail</td>\n",
       "    </tr>\n",
       "  </tbody>\n",
       "</table>\n",
       "</div>"
      ],
      "text/plain": [
       "    latitude   longitude                       name\n",
       "0  33.003597 -117.272446       annie's canyon trail\n",
       "1  32.817864 -117.055900         camp elliot trails\n",
       "2  32.942150 -117.130233  canyonside community park\n",
       "3  33.066486 -117.067740       coast to crest trail\n",
       "4  32.848640 -117.266270           coast walk trail"
      ]
     },
     "execution_count": 20,
     "metadata": {},
     "output_type": "execute_result"
    }
   ],
   "source": [
    "## create dataframe with just lattitudes and longitudes\n",
    "park_loc = pd.DataFrame(list(zip(latitude, longitude, name)), \n",
    "               columns =['latitude', 'longitude', 'name']) \n",
    "park_loc.head()\n",
    "\n",
    "## source: https://www.geeksforgeeks.org/create-a-pandas-dataframe-from-lists/"
   ]
  },
  {
   "cell_type": "code",
   "execution_count": 21,
   "metadata": {},
   "outputs": [],
   "source": [
    "## make a map from open street map\n",
    "sd = folium.Map(location = [32.7157,-117.1611],\n",
    "                tiles = 'Stamen Terrain')"
   ]
  },
  {
   "cell_type": "code",
   "execution_count": 22,
   "metadata": {},
   "outputs": [],
   "source": [
    "## set boundary of map to san diego county\n",
    "    ## coordinates source: https://boundingbox.klokantech.com/ \n",
    "sd.fit_bounds([[32.52952353, -117.61108103], [33.50529726, -116.08102998]])"
   ]
  },
  {
   "cell_type": "code",
   "execution_count": 23,
   "metadata": {},
   "outputs": [],
   "source": [
    "## plot park_locations geodataframe onto sd map\n",
    "for i in range(0,len(park_loc)):\n",
    "    folium.Marker([park_loc.iloc[i]['latitude'], park_loc.iloc[i]['longitude']], \n",
    "                 popup = park_loc.iloc[i]['name']).add_to(sd)"
   ]
  },
  {
   "cell_type": "code",
   "execution_count": 24,
   "metadata": {},
   "outputs": [
    {
     "data": {
      "text/html": [
       "<div style=\"width:100%;\"><div style=\"position:relative;width:100%;height:0;padding-bottom:60%;\"><span style=\"color:#565656\">Make this Notebook Trusted to load map: File -> Trust Notebook</span><iframe src=\"about:blank\" style=\"position:absolute;width:100%;height:100%;left:0;top:0;border:none !important;\" data-html=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 onload=\"this.contentDocument.open();this.contentDocument.write(atob(this.getAttribute('data-html')));this.contentDocument.close();\" allowfullscreen webkitallowfullscreen mozallowfullscreen></iframe></div></div>"
      ],
      "text/plain": [
       "<folium.folium.Map at 0x7fc742eb7310>"
      ]
     },
     "execution_count": 24,
     "metadata": {},
     "output_type": "execute_result"
    }
   ],
   "source": [
    "## check map\n",
    "sd"
   ]
  },
  {
   "cell_type": "markdown",
   "metadata": {},
   "source": [
    "# Ethics & Privacy"
   ]
  },
  {
   "cell_type": "markdown",
   "metadata": {},
   "source": [
    "**Privacy:** Yelp is user generated data. If it is not scraped and/or cleaned well it could reveal people's identities through their username, comments, or even photos. A malicious actor could gain access to this information and use it for unethical purposes. On the topic of photos, people post pictures on yelp that often contain their faces. If information of these images are included in the dataframe, any facial recognition software could be used to identify  the yelp users that posted photos. Yelp reviews are also posted from personal computers, so it is possible that information like io addresses can be scraped from the reviews, which can be used to reveal someone's location. Therefore, it is imperative that the data is well cleaned, especially when it is user-generated- in order to protect users privacy and safety.\n",
    "\n",
    "**Ethics:** Reviews and ratings from Yelp are opinions. People feel protected on the internet, so leave reviews that are over-exaggerated or fueled by strong emotions. Therefore, average ratings are influenced by these emotionally charged reviews and may not accurately reflect the popularity or quality of the hike. This has implications for the owners of these spaces of how much maintenance or advertising they do on their locations based on information from reviews such as these. They may be allocating resources to the wrong places or not using the correct resources because of biased reviews. Furthermore, websites such as OpenStreeMaps, are open data sources, but they ask to be credited when someone uses their services. It would be unethical to use information gathered from sources such as OpenStreetMaps and not cite them as a source. It could even be considered plagairism, as one is using data they did not acquire on their own. When collecting data, it important to always give credit to the sources from which the data came."
   ]
  },
  {
   "cell_type": "markdown",
   "metadata": {},
   "source": [
    "# Conclusion & Discussion"
   ]
  },
  {
   "cell_type": "markdown",
   "metadata": {},
   "source": [
    "The map displays the locations of the most popular hikes in San Diego county, according to Yelp reviews. The pins represent the latitude and longitude coordinates of each park. According to the distribution of the pins, there is no clear pattern of where the most popular hikes are located in terms of region. It appears that most of the popular hikes range from North San Diego County towards the middle of San Diego (city), with a few outliers in the far East and South areas of San Diego County. Based on the map, the hypothesis is rejected, since there is no obvious pattern. \n",
    "\n",
    "It does appear that many of the popular hikes fall along the coastline, and there is some clustering in the central parts of San Diego. Further analysis could be done to statistically if there are clusters or groupings. The geographic areas could also be analyzed to see if there is some correlation between location and hikes, such as the presence mountains. \n",
    "\n",
    "The data presented by the map has implications for the owners of these locations. It displays which parks are most popular, and likely most frequented; therefore, these parks need more resources in order to be properly maintained and kept in good condition for frequent visitors. At the same time, owners can see if their location is NOT on this map, and can focus on advertising efforts to attract more visitors to these locations. Further analysis can provide more information on how park owners can maintain and promote their locations. "
   ]
  }
 ],
 "metadata": {
  "kernelspec": {
   "display_name": "Python 3",
   "language": "python",
   "name": "python3"
  },
  "language_info": {
   "codemirror_mode": {
    "name": "ipython",
    "version": 3
   },
   "file_extension": ".py",
   "mimetype": "text/x-python",
   "name": "python",
   "nbconvert_exporter": "python",
   "pygments_lexer": "ipython3",
   "version": "3.7.6"
  }
 },
 "nbformat": 4,
 "nbformat_minor": 2
}
